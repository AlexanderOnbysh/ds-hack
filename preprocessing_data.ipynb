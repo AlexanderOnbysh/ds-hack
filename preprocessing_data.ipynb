{
 "cells": [
  {
   "cell_type": "code",
   "execution_count": 1,
   "metadata": {
    "collapsed": true
   },
   "outputs": [],
   "source": [
    "import pandas as pd\n",
    "import numpy as np\n",
    "import os"
   ]
  },
  {
   "cell_type": "code",
   "execution_count": 19,
   "metadata": {
    "collapsed": true
   },
   "outputs": [],
   "source": [
    "train = pd.read_csv('/Users/krybkin/Desktop/ods_hackaton/train_data.csv')\n",
    "train_complaints = pd.read_csv('/Users/krybkin/Desktop/ods_hackaton/complaints_train.csv')\n",
    "test = pd.read_csv('/Users/krybkin/Desktop/ods_hackaton/test_data.csv')\n",
    "sub = pd.read_csv('/Users/krybkin/Desktop/ods_hackaton/sample_submission.csv')"
   ]
  },
  {
   "cell_type": "markdown",
   "metadata": {},
   "source": [
    "### Filtering columns"
   ]
  },
  {
   "cell_type": "code",
   "execution_count": 99,
   "metadata": {
    "collapsed": true
   },
   "outputs": [],
   "source": [
    "train_agg = train.groupby('unique_id', as_index=False).last()\n",
    "test_agg = test.groupby('unique_id', as_index=False).last()"
   ]
  },
  {
   "cell_type": "code",
   "execution_count": 206,
   "metadata": {
    "collapsed": true
   },
   "outputs": [],
   "source": [
    "needed_columns = ['Минимальная глубина CPV (2017 год)', 'СуммаТендера', 'Организатор',\n",
    "                 'Дата начала подачи предложений', 'Тип методу закупівлі',\n",
    "                 'Тип организатора', 'Статус лота', 'СтатусТендера',\n",
    "                 'РегионОрганизатора', 'Регион поставки', 'Тендер',\n",
    "                 'Дата начала периода уточнений', 'Дата завершения',\n",
    "                 'Дата завершения подачи предложений', 'ШагУменьшенияЛот','СуммаГарантииПредложенияЛота']"
   ]
  },
  {
   "cell_type": "code",
   "execution_count": null,
   "metadata": {
    "collapsed": true
   },
   "outputs": [],
   "source": [
    "train_agg = train_agg[needed_columns]\n",
    "test_agg = test_agg[needed_columns]"
   ]
  },
  {
   "cell_type": "markdown",
   "metadata": {},
   "source": [
    "### Replacing index"
   ]
  },
  {
   "cell_type": "code",
   "execution_count": 189,
   "metadata": {
    "collapsed": true
   },
   "outputs": [],
   "source": [
    "train_agg.index = train_agg.unique_id\n",
    "train_agg.drop('unique_id', axis=1, inplace=True)\n",
    "test.index = test.unique_id\n",
    "test.drop('unique_id', axis=1, inplace=True)"
   ]
  },
  {
   "cell_type": "code",
   "execution_count": 107,
   "metadata": {
    "collapsed": true
   },
   "outputs": [],
   "source": [
    "def filter_digits(row):\n",
    "    if row == '-':\n",
    "        return '0000'\n",
    "    else:\n",
    "        return row[:4]"
   ]
  },
  {
   "cell_type": "code",
   "execution_count": 159,
   "metadata": {},
   "outputs": [],
   "source": [
    "train_agg['Минимальная глубина CPV (2017 год)'] = train_agg['Минимальная глубина CPV (2017 год)'].apply(lambda x: filter_digits(x))\n",
    "test_agg['Минимальная глубина CPV (2017 год)'] = test_agg['Минимальная глубина CPV (2017 год)'].apply(lambda x: filter_digits(x))"
   ]
  },
  {
   "cell_type": "code",
   "execution_count": 136,
   "metadata": {},
   "outputs": [],
   "source": [
    "merged_train = train_agg.join(train.groupby('unique_id').count()['ID'].to_frame())"
   ]
  },
  {
   "cell_type": "code",
   "execution_count": 147,
   "metadata": {},
   "outputs": [],
   "source": [
    "merged_train['Дата завершения подачи предложений'] = pd.to_datetime(merged_train['Дата завершения подачи предложений'])\n",
    "merged_train['Дата завершения'] = pd.to_datetime(merged_train['Дата завершения'])"
   ]
  },
  {
   "cell_type": "code",
   "execution_count": 172,
   "metadata": {},
   "outputs": [],
   "source": [
    "merged_train['target'] = merged_train['ID']\n",
    "merged_train.drop('ID', axis=1, inplace=True)"
   ]
  },
  {
   "cell_type": "markdown",
   "metadata": {},
   "source": [
    "### Saving datasets"
   ]
  },
  {
   "cell_type": "code",
   "execution_count": null,
   "metadata": {
    "collapsed": true
   },
   "outputs": [],
   "source": [
    "merged_train.to_csv('/Users/krybkin/Desktop/ods_hackaton/train_agg_2.csv')"
   ]
  },
  {
   "cell_type": "code",
   "execution_count": 192,
   "metadata": {
    "collapsed": true
   },
   "outputs": [],
   "source": [
    "test.to_csv('/Users/krybkin/Desktop/ods_hackaton/test.csv')"
   ]
  },
  {
   "cell_type": "code",
   "execution_count": null,
   "metadata": {
    "collapsed": true
   },
   "outputs": [],
   "source": []
  }
 ],
 "metadata": {
  "kernelspec": {
   "display_name": "Python 3",
   "language": "python",
   "name": "python3"
  },
  "language_info": {
   "codemirror_mode": {
    "name": "ipython",
    "version": 3
   },
   "file_extension": ".py",
   "mimetype": "text/x-python",
   "name": "python",
   "nbconvert_exporter": "python",
   "pygments_lexer": "ipython3",
   "version": "3.6.2"
  }
 },
 "nbformat": 4,
 "nbformat_minor": 2
}
