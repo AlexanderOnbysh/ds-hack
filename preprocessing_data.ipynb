{
 "cells": [
  {
   "cell_type": "code",
   "execution_count": 1,
   "metadata": {},
   "outputs": [],
   "source": [
    "import pandas as pd\n",
    "import numpy as np\n",
    "import os\n",
    "import numpy as np"
   ]
  },
  {
   "cell_type": "code",
   "execution_count": 2,
   "metadata": {},
   "outputs": [],
   "source": [
    "train = pd.read_csv('~/ds-hack/data/train_data.csv')\n",
    "train_complaints = pd.read_csv('~/ds-hack/data/complaints_train.csv')\n",
    "test = pd.read_csv('~/ds-hack/data/test_data.csv')\n",
    "sub = pd.read_csv('~/ds-hack/data/sample_submission.csv')"
   ]
  },
  {
   "cell_type": "code",
   "execution_count": 3,
   "metadata": {},
   "outputs": [],
   "source": [
    "needed_columns = ['Минимальная глубина CPV (2017 год)', 'СуммаТендера', 'Организатор',\n",
    "                 'Дата начала подачи предложений', 'Тип методу закупівлі', 'unique_id',\n",
    "                 'Тип организатора', 'Статус лота', 'СтатусТендера', 'IDOrganizator',\n",
    "                 'РегионОрганизатора', 'Регион поставки', 'Тендер',\n",
    "                 'Дата начала периода уточнений', 'Дата завершения',\n",
    "                 'Дата завершения подачи предложений', 'ШагУменьшенияЛот','СуммаГарантииПредложенияЛота']"
   ]
  },
  {
   "cell_type": "code",
   "execution_count": 4,
   "metadata": {},
   "outputs": [],
   "source": [
    "train_agg = train[needed_columns]\n",
    "test_agg = test[needed_columns]"
   ]
  },
  {
   "cell_type": "markdown",
   "metadata": {},
   "source": [
    "### Filtering columns"
   ]
  },
  {
   "cell_type": "code",
   "execution_count": 5,
   "metadata": {},
   "outputs": [],
   "source": [
    "train_target = train_agg.groupby('unique_id', as_index=False).count()[['unique_id', 'СуммаТендера']].rename({'СуммаТендера': 'target'}, axis=1).set_index('unique_id')\n",
    "test_target = test_agg.groupby('unique_id', as_index=False).count()[['unique_id', 'СуммаТендера']].rename({'СуммаТендера': 'target'}, axis=1).set_index('unique_id')"
   ]
  },
  {
   "cell_type": "markdown",
   "metadata": {},
   "source": [
    "### Replacing index"
   ]
  },
  {
   "cell_type": "code",
   "execution_count": 6,
   "metadata": {},
   "outputs": [
    {
     "name": "stderr",
     "output_type": "stream",
     "text": [
      "/home/alexanderonbysh/ds-hack/.env/lib/python3.6/site-packages/ipykernel_launcher.py:2: SettingWithCopyWarning: \n",
      "A value is trying to be set on a copy of a slice from a DataFrame\n",
      "\n",
      "See the caveats in the documentation: http://pandas.pydata.org/pandas-docs/stable/indexing.html#indexing-view-versus-copy\n",
      "  \n"
     ]
    }
   ],
   "source": [
    "train_agg.index = train_agg.unique_id\n",
    "train_agg.drop('unique_id', axis=1, inplace=True)\n",
    "test.drop('unique_id', axis=1, inplace=True)"
   ]
  },
  {
   "cell_type": "code",
   "execution_count": 7,
   "metadata": {},
   "outputs": [],
   "source": [
    "train_agg = train_agg.join(train_target)\n",
    "test_agg = test_agg.join(test_target)\n",
    "test_agg.index = test_agg.unique_id\n",
    "test_agg.drop('unique_id', axis=1, inplace=True)\n",
    "test_agg.drop('target', axis=1, inplace=True)"
   ]
  },
  {
   "cell_type": "code",
   "execution_count": 9,
   "metadata": {},
   "outputs": [],
   "source": [
    "train_agg['Минимальная глубина CPV (2017 год)'] = train_agg['Минимальная глубина CPV (2017 год)'].replace('-', '000000000')\n",
    "test_agg['Минимальная глубина CPV (2017 год)'] = test_agg['Минимальная глубина CPV (2017 год)'].replace('-', '000000000')"
   ]
  },
  {
   "cell_type": "code",
   "execution_count": 10,
   "metadata": {},
   "outputs": [],
   "source": [
    "train_agg['Минимальная глубина CPV (2017 год)'] = train_agg['Минимальная глубина CPV (2017 год)'].apply(lambda x: x[:8])\n",
    "test_agg['Минимальная глубина CPV (2017 год)'] = test_agg['Минимальная глубина CPV (2017 год)'].apply(lambda x: x[:8])"
   ]
  },
  {
   "cell_type": "code",
   "execution_count": 11,
   "metadata": {},
   "outputs": [],
   "source": [
    "train_agg = train_agg[train_agg['Дата начала периода уточнений'] != '-']"
   ]
  },
  {
   "cell_type": "code",
   "execution_count": 12,
   "metadata": {},
   "outputs": [],
   "source": [
    "train_agg['Дата завершения подачи предложений'] = pd.to_datetime(train_agg['Дата завершения подачи предложений'])\n",
    "train_agg['Дата завершения'] = pd.to_datetime(train_agg['Дата завершения'])\n",
    "train_agg['Дата начала периода уточнений'] = pd.to_datetime(train_agg['Дата начала периода уточнений'])\n",
    "train_agg['Дата начала подачи предложений'] = pd.to_datetime(train_agg['Дата начала подачи предложений'])\n",
    "\n",
    "test_agg['Дата завершения подачи предложений'] = pd.to_datetime(test_agg['Дата завершения подачи предложений'])\n",
    "test_agg['Дата завершения'] = pd.to_datetime(test_agg['Дата завершения'])\n",
    "test_agg['Дата начала периода уточнений'] = pd.to_datetime(test_agg['Дата начала периода уточнений'])\n",
    "test_agg['Дата начала подачи предложений'] = pd.to_datetime(test_agg['Дата начала подачи предложений'])"
   ]
  },
  {
   "cell_type": "code",
   "execution_count": 13,
   "metadata": {},
   "outputs": [],
   "source": [
    "train_agg.loc[train_agg['СуммаГарантииПредложенияЛота'] == '-', 'СуммаГарантииПредложенияЛота'] = 0\n",
    "test_agg.loc[test_agg['СуммаГарантииПредложенияЛота'] == '-', 'СуммаГарантииПредложенияЛота'] = 0"
   ]
  },
  {
   "cell_type": "code",
   "execution_count": 14,
   "metadata": {},
   "outputs": [],
   "source": [
    "train_agg['cpv_group'] = train_agg['Минимальная глубина CPV (2017 год)'].str[:4]\n",
    "test_agg['cpv_group'] = test_agg['Минимальная глубина CPV (2017 год)'].str[:4]"
   ]
  },
  {
   "cell_type": "code",
   "execution_count": 16,
   "metadata": {},
   "outputs": [],
   "source": [
    "train_agg['time_diff'] = (train_agg['Дата завершения'].values.astype(np.float64) - train_agg['Дата начала подачи предложений'].values.astype(np.float64)) / 1e15\n",
    "test_agg['time_diff'] = (test_agg['Дата завершения'].values.astype(np.float64) - test_agg['Дата начала подачи предложений'].values.astype(np.float64)) / 1e15"
   ]
  },
  {
   "cell_type": "code",
   "execution_count": 17,
   "metadata": {},
   "outputs": [],
   "source": [
    "train_agg = train_agg[train_agg['time_diff'] > 0]\n",
    "test_agg = test_agg[test_agg['time_diff'] > 0]"
   ]
  },
  {
   "cell_type": "markdown",
   "metadata": {},
   "source": [
    "### Saving datasets"
   ]
  },
  {
   "cell_type": "code",
   "execution_count": 18,
   "metadata": {},
   "outputs": [],
   "source": [
    "train_agg.to_csv('/home/alexanderonbysh/ds-hack/data/train_agg_4.csv')"
   ]
  },
  {
   "cell_type": "code",
   "execution_count": 19,
   "metadata": {},
   "outputs": [],
   "source": [
    "test_agg.to_csv('/home/alexanderonbysh/ds-hack/data/test_agg_4.csv')"
   ]
  },
  {
   "cell_type": "code",
   "execution_count": null,
   "metadata": {},
   "outputs": [],
   "source": []
  }
 ],
 "metadata": {
  "kernelspec": {
   "display_name": "Python 3",
   "language": "python",
   "name": "python3"
  },
  "language_info": {
   "codemirror_mode": {
    "name": "ipython",
    "version": 3
   },
   "file_extension": ".py",
   "mimetype": "text/x-python",
   "name": "python",
   "nbconvert_exporter": "python",
   "pygments_lexer": "ipython3",
   "version": "3.6.3"
  }
 },
 "nbformat": 4,
 "nbformat_minor": 2
}
